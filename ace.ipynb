{
 "cells": [
  {
   "cell_type": "code",
   "execution_count": 1,
   "outputs": [],
   "source": [
    "from __future__ import absolute_import\n",
    "from __future__ import division\n",
    "from __future__ import print_function\n"
   ],
   "metadata": {
    "collapsed": false,
    "pycharm": {
     "name": "#%%\n",
     "is_executing": false
    }
   }
  },
  {
   "cell_type": "code",
   "execution_count": 2,
   "outputs": [],
   "source": [
    "import os\n",
    "import numpy as np\n",
    "import torch\n",
    "import torch.nn as nn\n",
    "import torch.nn.functional as F\n",
    "import torchvision.transforms as transforms\n",
    "from PIL import Image\n",
    "from concept.model import ImageModelWrapper\n",
    "from concept.activation_generator import ImageActivationGenerator\n",
    "from concept.tcav import TCAV\n",
    "from concept.ace import ACE\n",
    "import concept.utils as utils\n",
    "import pickle"
   ],
   "metadata": {
    "collapsed": false,
    "pycharm": {
     "name": "#%%\n",
     "is_executing": false
    }
   }
  },
  {
   "cell_type": "code",
   "execution_count": 3,
   "outputs": [],
   "source": [
    "class Net(nn.Module):\n",
    "    def __init__(self):\n",
    "      super(Net, self).__init__()\n",
    "      self.conv1 = nn.Conv2d(3, 32, 3, 1)\n",
    "      self.conv2 = nn.Conv2d(32, 64, 3, 1)\n",
    "      self.dropout1 = nn.Dropout(0.25)\n",
    "      self.dropout2 = nn.Dropout(0.5)\n",
    "      self.fc1 = nn.Linear(9216, 128)\n",
    "      self.fc2 = nn.Linear(128, 10)\n",
    "    \n",
    "    def forward(self, x):\n",
    "      x = self.conv1(x)\n",
    "      x = F.relu(x)\n",
    "      x = self.conv2(x)\n",
    "      x = F.relu(x)\n",
    "      x = F.max_pool2d(x, 2)\n",
    "      x = self.dropout1(x)\n",
    "      x = torch.flatten(x, 1)\n",
    "      x = self.fc1(x)\n",
    "      x = F.relu(x)\n",
    "      x = self.dropout2(x)\n",
    "      x = self.fc2(x)\n",
    "      \n",
    "      return x\n",
    "    "
   ],
   "metadata": {
    "collapsed": false,
    "pycharm": {
     "name": "#%%\n",
     "is_executing": false
    }
   }
  },
  {
   "cell_type": "code",
   "execution_count": 4,
   "outputs": [
    {
     "name": "stdout",
     "text": [
      "Loaded model data/models/simple_conv_net_mnist_ep19.pkl\n"
     ],
     "output_type": "stream"
    }
   ],
   "source": [
    "net = Net()\n",
    "transform = transforms.Compose([\n",
    "    transforms.Resize(28, 28),\n",
    "    transforms.ToTensor()\n",
    "])\n",
    "\n",
    "model = ImageModelWrapper(\n",
    "    model=net,\n",
    "    state_dict_path='data/models/simple_conv_net_mnist_ep19.pkl',\n",
    "    image_shape=(28, 28),\n",
    "    labels_path='data/MNIST/data/classes.txt'\n",
    ")\n",
    "\n",
    "generator = ImageActivationGenerator(\n",
    "    model=model,\n",
    "    source_dir='data/MNIST/concept',\n",
    "    working_dir='data/MNIST',\n",
    "    max_examples=50,\n",
    "    transform=transform,\n",
    ")"
   ],
   "metadata": {
    "collapsed": false,
    "pycharm": {
     "name": "#%%     \n",
     "is_executing": false
    }
   }
  },
  {
   "cell_type": "code",
   "execution_count": 5,
   "outputs": [],
   "source": [
    "ace = ACE(activation_generator=generator,\n",
    "          target_class='random500_0',\n",
    "          random_concept=None,\n",
    "          bottlenecks=['conv2'],\n",
    "          source_dir='data/MNIST/concepts',\n",
    "          working_dir='data/MNIST/ace',\n",
    "          num_random_exp=5,\n",
    "          channel_mean=True,\n",
    "          max_imgs=40,\n",
    "          min_imgs=20,\n",
    "          num_discovery_imgs=5,\n",
    "          num_workers=3,\n",
    "          average_image_value=117)"
   ],
   "metadata": {
    "collapsed": false,
    "pycharm": {
     "name": "#%%\n",
     "is_executing": false
    }
   }
  },
  {
   "cell_type": "code",
   "execution_count": 6,
   "outputs": [
    {
     "name": "stderr",
     "text": [
      "/home/dizzy/workspace/torch-tcav/concept/ace.py:137: FutureWarning: skimage.measure.label's indexing starts from 0. In future version it will start from 1. To disable this warning, explicitely set the `start_label` parameter to 1.\n",
      "  sigma=sigmas[i])\n"
     ],
     "output_type": "stream"
    },
    {
     "name": "stdout",
     "text": [
      "Created 615 patches using slic segmentation method\n"
     ],
     "output_type": "stream"
    }
   ],
   "source": [
    "ace.create_patches()"
   ],
   "metadata": {
    "collapsed": false,
    "pycharm": {
     "name": "#%%\n",
     "is_executing": false
    }
   }
  },
  {
   "cell_type": "code",
   "execution_count": 7,
   "outputs": [
    {
     "name": "stdout",
     "text": [
      "Created 612 patches using slic segmentation method\n",
      "Starting clustering with KM for 612 activations\n",
      "Created 25 clusters\n",
      "[ 78  95 179 182 193 307 360 517 560 571 600 603]\n",
      "[533 534 535 539 540 541 542 543 544 545 548 549 550 551 552 582 587 589\n",
      " 590 591 593 594 595 596 597 598 609 610]\n",
      "[134 137 138 152 157 158 159 162 163 164 166 167 168 169 172 173 176 177\n",
      " 198 199 206 207 210 211 213 214 217 218 222 223 224 225 234 236 238 239\n",
      " 240 289 531]\n",
      "[  7  10  66  67  68  73  85 108 109 114 115 126 184 189 251 255 257 309\n",
      " 316 317 320 326 334 354 355 357 359 365 383 389 390 391 392 394 397 399\n",
      " 400 401 402 410 436 439 441 443 446 447 449 450 453 455 460 462 468 472\n",
      " 478 480 485 505 506 528 529 538 558]\n",
      "[ 11  74 122 148 178 201 227 265 276 285 413 425 465 470 471 473 536 581\n",
      " 607]\n",
      "[ 20  26  27  84 113 141 160 194 422 427 474 498]\n",
      "[514 515 572 573 576 602]\n",
      "[156 165 174 175 205 212 219 220 221 233 237 283 287 290 291 292 293 294\n",
      " 296 297 298 299 300 301 302 339 340 342 343 344 345 346 347 348 349 361\n",
      " 362 363 364 546 547 553 608 611]\n",
      "[  0   3   4   5   9  18  21  23  35  38  39  43  48  61  75  89  91  97\n",
      "  98 110 111 116 118 119 247 249 250 252 253 254 280 305 310 314 367 375\n",
      " 378 380 403 431 433 448 454 456 469 493 521 563 564 565]\n",
      "[  1  15  28  60  80  87 112 127 248 304 312 315 318 321 333 352 353 366\n",
      " 373 377 382 432 437 444 451 458 479 481 482 483 484 487 488 494 497 522\n",
      " 537 557 567 586]\n",
      "[124 125 147 337 532 583]\n",
      "[504 507 508 509]\n",
      "[  2   8  16  17  22  24  29  30  31  34  36  37  41  42  44  45  46  47\n",
      "  50  51  52  53  54  55  56  57  58  59  62  63  64  65  71  72  77  79\n",
      "  82  83  86  90  92  93  94  96  99 100 101 102 103 104 105 106 107 120\n",
      " 121 129 259 260 261 262 263 267 268 269 270 271 272 275 277 319 323 324\n",
      " 325 329 332 368 369 370 371 372 379 381 386 387 388 393 395 396 398 406\n",
      " 411 415 416 424 434 435 440 452 457 463 489 519]\n",
      "[139 143 144 145 146 149 150 151 154 155 161 170 171 191 192 195 196 197\n",
      " 200 202 203 204 208 209 215 216 229 230 231 235]\n",
      "[ 13  32  33  49  76  88 128 241 242 245 246 264 266 303 306 311 313 327\n",
      " 328 350 351 384 407 417 442]\n",
      "[511 516 520 523 524 530 568 570 574 577 578 579 584]\n",
      "[130 131 132 135 136 153 279]\n",
      "[142 281 330 341 526]\n",
      "[ 25 228 322 356 358 510]\n",
      "[518 525 569 580 604 605 606]\n",
      "[  6  40  69  70 123 180 185 186 187 188 190 243 256 258 274 286 331 405\n",
      " 408 412 438 459 466 467 486 527 585]\n",
      "[183 278 282 284 288 295 338 592]\n",
      "[ 12  14  19  81 117 133 181 226 244 273 308 335 374 376 385 404 409 414\n",
      " 445 461 464 490 495 496 500 501 554 555 556 559 561 562 575 599 601]\n",
      "[502 503 512 513]\n",
      "[140 232 336 418 419 420 421 423 426 428 429 430 475 476 477 491 492 499\n",
      " 566 588]\n"
     ],
     "output_type": "stream"
    }
   ],
   "source": [
    "ace.discover_concepts() "
   ],
   "metadata": {
    "collapsed": false,
    "pycharm": {
     "name": "#%%\n",
     "is_executing": false
    }
   }
  },
  {
   "cell_type": "code",
   "execution_count": 11,
   "outputs": [
    {
     "data": {
      "text/plain": "['random500_0_concept1',\n 'random500_0_concept2',\n 'random500_0_concept3',\n 'random500_0_concept4']"
     },
     "metadata": {},
     "output_type": "execute_result",
     "execution_count": 11
    }
   ],
   "source": [
    "# tcav = TCAV(target='one',\n",
    "#             concepts=['one', 'two'],\n",
    "#             bottlenecks=['conv2'],\n",
    "#             activation_generator=generator,\n",
    "#             alphas=[0.01],\n",
    "#             random_counterpart=None,\n",
    "#             working_dir='data/MNIST',\n",
    "#             num_random_exp=10,\n",
    "#             random_concepts=None)\n",
    "\n",
    "ace.generate_tcavs()"
   ],
   "metadata": {
    "collapsed": false,
    "pycharm": {
     "name": "#%%\n",
     "is_executing": false
    }
   }
  }
 ],
 "metadata": {
  "kernelspec": {
   "display_name": "Python 3",
   "language": "python",
   "name": "python3"
  },
  "language_info": {
   "codemirror_mode": {
    "name": "ipython",
    "version": 2
   },
   "file_extension": ".py",
   "mimetype": "text/x-python",
   "name": "python",
   "nbconvert_exporter": "python",
   "pygments_lexer": "ipython2",
   "version": "2.7.6"
  },
  "pycharm": {
   "stem_cell": {
    "cell_type": "raw",
    "source": [],
    "metadata": {
     "collapsed": false
    }
   }
  }
 },
 "nbformat": 4,
 "nbformat_minor": 0
}