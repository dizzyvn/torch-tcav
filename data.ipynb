{
 "cells": [
  {
   "cell_type": "code",
   "execution_count": 12,
   "outputs": [],
   "source": [
    "from __future__ import absolute_import\n",
    "from __future__ import division\n",
    "from __future__ import print_function"
   ],
   "metadata": {
    "collapsed": false,
    "pycharm": {
     "name": "#%%\n",
     "is_executing": false
    }
   }
  },
  {
   "cell_type": "code",
   "execution_count": 13,
   "outputs": [],
   "source": [
    "import os\n",
    "import shutil\n",
    "import numpy as np\n",
    "import torch\n",
    "import torchvision.datasets as datasets\n",
    "from PIL import Image"
   ],
   "metadata": {
    "collapsed": false,
    "pycharm": {
     "name": "#%%\n",
     "is_executing": false
    }
   }
  },
  {
   "cell_type": "code",
   "execution_count": 14,
   "outputs": [],
   "source": [
    "def save_img(img, path):\n",
    "    if isinstance(img, torch.Tensor): \n",
    "        img = img.detach().cpu().numpy()\n",
    "    if isinstance(img, np.ndarray):\n",
    "        img = np.expand_dims(img, -1)\n",
    "        img = np.repeat(img, 3, 2)\n",
    "        img = Image.fromarray(img)\n",
    "    if isinstance(img, Image.Image):\n",
    "        img.save(path)\n",
    "    else:\n",
    "        print('fail', type(img))\n",
    "\n",
    "mnist = datasets.MNIST('/tmp/MNIST/', download=True, transform=None)"
   ],
   "metadata": {
    "collapsed": false,
    "pycharm": {
     "name": "#%%\n",
     "is_executing": false
    }
   }
  },
  {
   "cell_type": "code",
   "execution_count": 15,
   "outputs": [],
   "source": [
    "# Take the classes list from data\n",
    "data_dir = 'data/MNIST/data' \n",
    "if not os.path.exists(data_dir):\n",
    "    os.mkdir(data_dir)\n",
    "classes = [c.split(' ')[-1] for c in mnist.classes]\n",
    "\n",
    "# Create a new classes text file\n",
    "with open(os.path.join(data_dir, 'classes.txt'), 'w') as f:\n",
    "    for c in classes:\n",
    "        f.write(c + '\\n')"
   ],
   "metadata": {
    "collapsed": false,
    "pycharm": {
     "name": "#%%\n",
     "is_executing": false
    }
   }
  },
  {
   "cell_type": "code",
   "execution_count": 16,
   "outputs": [],
   "source": [
    "# Creat dir for saving each class\n",
    "for target in classes:\n",
    "    if not os.path.exists(os.path.join(data_dir, target)):\n",
    "        os.mkdir(os.path.join(data_dir, target))\n",
    "\n",
    "# Save data as images \n",
    "img_count = [0] * 10\n",
    "for i in range(len(mnist.data)):\n",
    "    x = mnist.data[i]\n",
    "    y = mnist.targets[i].item()\n",
    "    save_path = os.path.join(data_dir, classes[y], '{}.jpg'.format(img_count[y]))\n",
    "    save_img(x, save_path)\n",
    "    img_count[y] += 1"
   ],
   "metadata": {
    "collapsed": false,
    "pycharm": {
     "name": "#%% \n",
     "is_executing": false
    }
   }
  },
  {
   "cell_type": "code",
   "execution_count": 17,
   "outputs": [
    {
     "name": "stdout",
     "text": [
      "Files already downloaded and verified\n"
     ],
     "output_type": "stream"
    }
   ],
   "source": [
    "# Create random concepts using cifar10\n",
    "cifar10 = datasets.CIFAR10('/tmp/CIFAR10/', download=True, transform=None)"
   ],
   "metadata": {
    "collapsed": false,
    "pycharm": {
     "name": "#%%",
     "is_executing": false
    }
   }
  },
  {
   "cell_type": "code",
   "execution_count": 18,
   "outputs": [],
   "source": [
    "concept_dir = 'data/MNIST/concepts'\n",
    "n_random_concepts = 100\n",
    "n_exp_p_concept = 500\n",
    "for concept in range(n_random_concepts):\n",
    "    _concept = 'random500_{}'.format(concept)\n",
    "    _dir = os.path.join(concept_dir, _concept)\n",
    "    if os.path.exists(_dir):\n",
    "        shutil.rmtree(_dir)\n",
    "    os.mkdir(_dir)\n",
    "    for i in range(n_exp_p_concept):\n",
    "        img = cifar10[n_exp_p_concept * concept + i][0]\n",
    "        save_path = os.path.join(_dir, '{}.jpg'.format(i))\n",
    "        save_img(img, save_path)"
   ],
   "metadata": {
    "collapsed": false,
    "pycharm": {
     "name": "#%%\n",
     "is_executing": false
    }
   }
  },
  {
   "cell_type": "code",
   "execution_count": null,
   "outputs": [],
   "source": [],
   "metadata": {
    "collapsed": false,
    "pycharm": {
     "name": "#%%\n"
    }
   }
  }
 ],
 "metadata": {
  "kernelspec": {
   "display_name": "Python 3",
   "language": "python",
   "name": "python3"
  },
  "language_info": {
   "codemirror_mode": {
    "name": "ipython",
    "version": 2
   },
   "file_extension": ".py",
   "mimetype": "text/x-python",
   "name": "python",
   "nbconvert_exporter": "python",
   "pygments_lexer": "ipython2",
   "version": "2.7.6"
  },
  "pycharm": {
   "stem_cell": {
    "cell_type": "raw",
    "source": [],
    "metadata": {
     "collapsed": false
    }
   }
  }
 },
 "nbformat": 4,
 "nbformat_minor": 0
}