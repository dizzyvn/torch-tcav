{
 "cells": [
  {
   "cell_type": "code",
   "execution_count": 1,
   "outputs": [],
   "source": [
    "from __future__ import absolute_import\n",
    "from __future__ import division\n",
    "from __future__ import print_function"
   ],
   "metadata": {
    "collapsed": false,
    "pycharm": {
     "name": "#%%\n",
     "is_executing": false
    }
   }
  },
  {
   "cell_type": "code",
   "execution_count": 2,
   "outputs": [],
   "source": [
    "import os\n",
    "import numpy as np\n",
    "import torch\n",
    "import torch.nn as nn\n",
    "import torch.nn.functional as F\n",
    "import torchvision.transforms as transforms\n",
    "from PIL import Image\n",
    "from concept.model import ImageModelWrapper\n",
    "from concept.activation_generator import ImageActivationGenerator\n",
    "from concept.tcav import TCAV\n",
    "from concept.ace import ACE\n",
    "import concept.utils as utils\n",
    "import pickle"
   ],
   "metadata": {
    "collapsed": false,
    "pycharm": {
     "name": "#%%\n",
     "is_executing": false
    }
   }
  },
  {
   "cell_type": "code",
   "execution_count": 3,
   "outputs": [],
   "source": [
    "class Net(nn.Module):\n",
    "    def __init__(self):\n",
    "      super(Net, self).__init__()\n",
    "      self.conv1 = nn.Conv2d(3, 32, 3, 1)\n",
    "      self.conv2 = nn.Conv2d(32, 64, 3, 1)\n",
    "      self.dropout1 = nn.Dropout(0.25)\n",
    "      self.dropout2 = nn.Dropout(0.5)\n",
    "      self.fc1 = nn.Linear(9216, 128)\n",
    "      self.fc2 = nn.Linear(128, 10)\n",
    "    \n",
    "    def forward(self, x):\n",
    "      x = self.conv1(x)\n",
    "      x = F.relu(x)\n",
    "      x = self.conv2(x)\n",
    "      x = F.relu(x)\n",
    "      x = F.max_pool2d(x, 2)\n",
    "      x = self.dropout1(x)\n",
    "      x = torch.flatten(x, 1)\n",
    "      x = self.fc1(x)\n",
    "      x = F.relu(x)\n",
    "      x = self.dropout2(x)\n",
    "      x = self.fc2(x)\n",
    "      \n",
    "      return x\n",
    "    "
   ],
   "metadata": {
    "collapsed": false,
    "pycharm": {
     "name": "#%%\n",
     "is_executing": false
    }
   }
  },
  {
   "cell_type": "code",
   "execution_count": 4,
   "outputs": [
    {
     "name": "stdout",
     "text": [
      "Loaded model data/models/simple_conv_net_mnist_ep19.pkl\n"
     ],
     "output_type": "stream"
    }
   ],
   "source": [
    "net = Net()\n",
    "transform = transforms.Compose([\n",
    "    transforms.Resize(28, 28),\n",
    "    transforms.ToTensor()\n",
    "])\n",
    "\n",
    "model = ImageModelWrapper(\n",
    "    model=net,\n",
    "    state_dict_path='data/models/simple_conv_net_mnist_ep19.pkl',\n",
    "    image_shape=(28, 28),\n",
    "    labels_path='data/MNIST/data/classes.txt'\n",
    ")\n",
    "\n",
    "generator = ImageActivationGenerator(\n",
    "    model=model,\n",
    "    source_dir='data/MNIST/data',\n",
    "    working_dir='data/MNIST',\n",
    "    max_examples=50,\n",
    "    transform=transform,\n",
    ")"
   ],
   "metadata": {
    "collapsed": false,
    "pycharm": {
     "name": "#%%     \n",
     "is_executing": false
    }
   }
  },
  {
   "cell_type": "code",
   "execution_count": 5,
   "outputs": [
    {
     "name": "stdout",
     "text": [
      "conv2 ['one', 'random500_0'] one 0.01\n",
      "conv2 ['one', 'random500_1'] one 0.01\n",
      "conv2 ['one', 'random500_2'] one 0.01\n",
      "conv2 ['one', 'random500_3'] one 0.01\n",
      "conv2 ['one', 'random500_4'] one 0.01\n",
      "conv2 ['one', 'random500_5'] one 0.01\n",
      "conv2 ['one', 'random500_6'] one 0.01\n",
      "conv2 ['one', 'random500_7'] one 0.01\n",
      "conv2 ['one', 'random500_8'] one 0.01\n",
      "conv2 ['one', 'random500_9'] one 0.01\n",
      "conv2 ['two', 'random500_0'] one 0.01\n",
      "conv2 ['two', 'random500_1'] one 0.01\n",
      "conv2 ['two', 'random500_2'] one 0.01\n",
      "conv2 ['two', 'random500_3'] one 0.01\n",
      "conv2 ['two', 'random500_4'] one 0.01\n",
      "conv2 ['two', 'random500_5'] one 0.01\n",
      "conv2 ['two', 'random500_6'] one 0.01\n",
      "conv2 ['two', 'random500_7'] one 0.01\n",
      "conv2 ['two', 'random500_8'] one 0.01\n",
      "conv2 ['two', 'random500_9'] one 0.01\n",
      "conv2 ['random500_0', 'random500_1'] one 0.01\n",
      "conv2 ['random500_0', 'random500_2'] one 0.01\n",
      "conv2 ['random500_0', 'random500_3'] one 0.01\n",
      "conv2 ['random500_0', 'random500_4'] one 0.01\n",
      "conv2 ['random500_0', 'random500_5'] one 0.01\n",
      "conv2 ['random500_0', 'random500_6'] one 0.01\n",
      "conv2 ['random500_0', 'random500_7'] one 0.01\n",
      "conv2 ['random500_0', 'random500_8'] one 0.01\n",
      "conv2 ['random500_0', 'random500_9'] one 0.01\n",
      "conv2 ['random500_1', 'random500_0'] one 0.01\n",
      "conv2 ['random500_1', 'random500_2'] one 0.01\n",
      "conv2 ['random500_1', 'random500_3'] one 0.01\n",
      "conv2 ['random500_1', 'random500_4'] one 0.01\n",
      "conv2 ['random500_1', 'random500_5'] one 0.01\n",
      "conv2 ['random500_1', 'random500_6'] one 0.01\n",
      "conv2 ['random500_1', 'random500_7'] one 0.01\n",
      "conv2 ['random500_1', 'random500_8'] one 0.01\n",
      "conv2 ['random500_1', 'random500_9'] one 0.01\n",
      "conv2 ['random500_2', 'random500_0'] one 0.01\n",
      "conv2 ['random500_2', 'random500_1'] one 0.01\n",
      "conv2 ['random500_2', 'random500_3'] one 0.01\n",
      "conv2 ['random500_2', 'random500_4'] one 0.01\n",
      "conv2 ['random500_2', 'random500_5'] one 0.01\n",
      "conv2 ['random500_2', 'random500_6'] one 0.01\n",
      "conv2 ['random500_2', 'random500_7'] one 0.01\n",
      "conv2 ['random500_2', 'random500_8'] one 0.01\n",
      "conv2 ['random500_2', 'random500_9'] one 0.01\n",
      "conv2 ['random500_3', 'random500_0'] one 0.01\n",
      "conv2 ['random500_3', 'random500_1'] one 0.01\n",
      "conv2 ['random500_3', 'random500_2'] one 0.01\n",
      "conv2 ['random500_3', 'random500_4'] one 0.01\n",
      "conv2 ['random500_3', 'random500_5'] one 0.01\n",
      "conv2 ['random500_3', 'random500_6'] one 0.01\n",
      "conv2 ['random500_3', 'random500_7'] one 0.01\n",
      "conv2 ['random500_3', 'random500_8'] one 0.01\n",
      "conv2 ['random500_3', 'random500_9'] one 0.01\n",
      "conv2 ['random500_4', 'random500_0'] one 0.01\n",
      "conv2 ['random500_4', 'random500_1'] one 0.01\n",
      "conv2 ['random500_4', 'random500_2'] one 0.01\n",
      "conv2 ['random500_4', 'random500_3'] one 0.01\n",
      "conv2 ['random500_4', 'random500_5'] one 0.01\n",
      "conv2 ['random500_4', 'random500_6'] one 0.01\n",
      "conv2 ['random500_4', 'random500_7'] one 0.01\n",
      "conv2 ['random500_4', 'random500_8'] one 0.01\n",
      "conv2 ['random500_4', 'random500_9'] one 0.01\n",
      "conv2 ['random500_5', 'random500_0'] one 0.01\n",
      "conv2 ['random500_5', 'random500_1'] one 0.01\n",
      "conv2 ['random500_5', 'random500_2'] one 0.01\n",
      "conv2 ['random500_5', 'random500_3'] one 0.01\n",
      "conv2 ['random500_5', 'random500_4'] one 0.01\n",
      "conv2 ['random500_5', 'random500_6'] one 0.01\n",
      "conv2 ['random500_5', 'random500_7'] one 0.01\n",
      "conv2 ['random500_5', 'random500_8'] one 0.01\n",
      "conv2 ['random500_5', 'random500_9'] one 0.01\n",
      "conv2 ['random500_6', 'random500_0'] one 0.01\n",
      "conv2 ['random500_6', 'random500_1'] one 0.01\n",
      "conv2 ['random500_6', 'random500_2'] one 0.01\n",
      "conv2 ['random500_6', 'random500_3'] one 0.01\n",
      "conv2 ['random500_6', 'random500_4'] one 0.01\n",
      "conv2 ['random500_6', 'random500_5'] one 0.01\n",
      "conv2 ['random500_6', 'random500_7'] one 0.01\n",
      "conv2 ['random500_6', 'random500_8'] one 0.01\n",
      "conv2 ['random500_6', 'random500_9'] one 0.01\n",
      "conv2 ['random500_7', 'random500_0'] one 0.01\n",
      "conv2 ['random500_7', 'random500_1'] one 0.01\n",
      "conv2 ['random500_7', 'random500_2'] one 0.01\n",
      "conv2 ['random500_7', 'random500_3'] one 0.01\n",
      "conv2 ['random500_7', 'random500_4'] one 0.01\n",
      "conv2 ['random500_7', 'random500_5'] one 0.01\n",
      "conv2 ['random500_7', 'random500_6'] one 0.01\n",
      "conv2 ['random500_7', 'random500_8'] one 0.01\n",
      "conv2 ['random500_7', 'random500_9'] one 0.01\n",
      "conv2 ['random500_8', 'random500_0'] one 0.01\n",
      "conv2 ['random500_8', 'random500_1'] one 0.01\n",
      "conv2 ['random500_8', 'random500_2'] one 0.01\n",
      "conv2 ['random500_8', 'random500_3'] one 0.01\n",
      "conv2 ['random500_8', 'random500_4'] one 0.01\n",
      "conv2 ['random500_8', 'random500_5'] one 0.01\n",
      "conv2 ['random500_8', 'random500_6'] one 0.01\n",
      "conv2 ['random500_8', 'random500_7'] one 0.01\n",
      "conv2 ['random500_8', 'random500_9'] one 0.01\n",
      "conv2 ['random500_9', 'random500_0'] one 0.01\n",
      "conv2 ['random500_9', 'random500_1'] one 0.01\n",
      "conv2 ['random500_9', 'random500_2'] one 0.01\n",
      "conv2 ['random500_9', 'random500_3'] one 0.01\n",
      "conv2 ['random500_9', 'random500_4'] one 0.01\n",
      "conv2 ['random500_9', 'random500_5'] one 0.01\n",
      "conv2 ['random500_9', 'random500_6'] one 0.01\n",
      "conv2 ['random500_9', 'random500_7'] one 0.01\n",
      "conv2 ['random500_9', 'random500_8'] one 0.01\n",
      "TCAV have 110 params\n"
     ],
     "output_type": "stream"
    }
   ],
   "source": [
    "all_concepts = ['zero', 'one', 'two', 'three', 'four',\n",
    "                'five', 'six', 'seven', 'eight', 'nine']\n",
    "tcav = TCAV(target='one',\n",
    "            concepts=['one', 'two'],\n",
    "            bottlenecks=['conv2'],\n",
    "            activation_generator=generator,\n",
    "            alphas=[0.01],\n",
    "            random_counterpart=None,\n",
    "            working_dir='data/MNIST',\n",
    "            num_random_exp=10,\n",
    "            random_concepts=None)\n",
    "\n",
    "tcav_result = tcav.run(num_workers=10,\n",
    "                       overwrite=True)\n",
    "with open('result.pkl', 'wb') as f:\n",
    "    pickle.dump(tcav_result, f)\n",
    "\n",
    "with open('result.pkl', 'rb') as f:\n",
    "    tcav_result = pickle.load(f)\n",
    "utils.print_results(results=tcav_result,\n",
    "                    random_counterpart=None,\n",
    "                    random_concepts=None,\n",
    "                    min_p_val=0.05)"
   ],
   "metadata": {
    "collapsed": false,
    "pycharm": {
     "name": "#%%\n",
     "is_executing": false
    }
   }
  }
 ],
 "metadata": {
  "kernelspec": {
   "display_name": "Python 3",
   "language": "python",
   "name": "python3"
  },
  "language_info": {
   "codemirror_mode": {
    "name": "ipython",
    "version": 2
   },
   "file_extension": ".py",
   "mimetype": "text/x-python",
   "name": "python",
   "nbconvert_exporter": "python",
   "pygments_lexer": "ipython2",
   "version": "2.7.6"
  },
  "pycharm": {
   "stem_cell": {
    "cell_type": "raw",
    "source": [],
    "metadata": {
     "collapsed": false
    }
   }
  }
 },
 "nbformat": 4,
 "nbformat_minor": 0
}